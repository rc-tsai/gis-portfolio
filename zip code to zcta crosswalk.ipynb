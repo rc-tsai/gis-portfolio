## This file is used for processing data on Temporary Assistance for Needy Family (TANF) to crosswalk from ZIP code level to ZIP Code Tabulation Area

import os
import pandas as pd

# read in data
tanf = pd.read_csv('New_all_states.csv')


df = pd.read_csv('ZIPCodetoZCTACrosswalk2022UDS.csv')

# check data types
tanf.dtypes

# filter data on Georgia state
df = df[df['STATE'] == 'GA']


# remove non GA zip codes
# last checked: March 7, 2024
# Georgia Zip Min: 30001, Zip Max: 31999
tanf = pd.read_csv('New_all_states.csv')
tanf = tanf[(tanf['STATE'] == 'GA') & (tanf['year'] == '2021')]
tanf['ZIP'] = tanf['ZIP'].astype('Int64')

tanf = tanf.loc[(tanf['ZIP'] >= 30001) & (tanf['ZIP'] <= 31999)]

tanf.dtypes
tanf = tanf.loc[(tanf['ZIP'] >= 30001) & (tanf['ZIP'] <= 31999)]
tanf
tanf.rename(columns={'ZIP':'zip', 'recipients':'rec', 'blk_recipients':'blk_rec'}, inplace = True)
